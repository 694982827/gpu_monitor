{
 "cells": [
  {
   "cell_type": "code",
   "execution_count": 3,
   "metadata": {},
   "outputs": [],
   "source": [
    "import sys\n",
    "sys.path.append(\"/home/mat/repos/gpu_monitor\") "
   ]
  },
  {
   "cell_type": "code",
   "execution_count": 4,
   "metadata": {},
   "outputs": [],
   "source": [
    "from gpumon import nvidia_run, extract_and_print, extract\n",
    "import asyncio\n",
    "\n",
    "from bokeh.models import ColumnDataSource, TapTool, CustomJS, HoverTool\n",
    "from bokeh.plotting import figure\n",
    "from bokeh.io import output_notebook, show, push_notebook\n",
    "\n",
    "%load_ext autoreload\n",
    "%autoreload 2"
   ]
  },
  {
   "cell_type": "code",
   "execution_count": 5,
   "metadata": {},
   "outputs": [
    {
     "data": {
      "text/html": [
       "\n",
       "    <div class=\"bk-root\">\n",
       "        <a href=\"http://bokeh.pydata.org\" target=\"_blank\" class=\"bk-logo bk-logo-small bk-logo-notebook\"></a>\n",
       "        <span id=\"c17ad3ff-35da-4285-92e9-e62593c09849\">Loading BokehJS ...</span>\n",
       "    </div>"
      ]
     },
     "metadata": {},
     "output_type": "display_data"
    },
    {
     "data": {
      "application/javascript": [
       "\n",
       "(function(global) {\n",
       "  function now() {\n",
       "    return new Date();\n",
       "  }\n",
       "\n",
       "  var force = true;\n",
       "\n",
       "  if (typeof (window._bokeh_onload_callbacks) === \"undefined\" || force === true) {\n",
       "    window._bokeh_onload_callbacks = [];\n",
       "    window._bokeh_is_loading = undefined;\n",
       "  }\n",
       "\n",
       "\n",
       "  \n",
       "  if (typeof (window._bokeh_timeout) === \"undefined\" || force === true) {\n",
       "    window._bokeh_timeout = Date.now() + 5000;\n",
       "    window._bokeh_failed_load = false;\n",
       "  }\n",
       "\n",
       "  var NB_LOAD_WARNING = {'data': {'text/html':\n",
       "     \"<div style='background-color: #fdd'>\\n\"+\n",
       "     \"<p>\\n\"+\n",
       "     \"BokehJS does not appear to have successfully loaded. If loading BokehJS from CDN, this \\n\"+\n",
       "     \"may be due to a slow or bad network connection. Possible fixes:\\n\"+\n",
       "     \"</p>\\n\"+\n",
       "     \"<ul>\\n\"+\n",
       "     \"<li>re-rerun `output_notebook()` to attempt to load from CDN again, or</li>\\n\"+\n",
       "     \"<li>use INLINE resources instead, as so:</li>\\n\"+\n",
       "     \"</ul>\\n\"+\n",
       "     \"<code>\\n\"+\n",
       "     \"from bokeh.resources import INLINE\\n\"+\n",
       "     \"output_notebook(resources=INLINE)\\n\"+\n",
       "     \"</code>\\n\"+\n",
       "     \"</div>\"}};\n",
       "\n",
       "  function display_loaded() {\n",
       "    if (window.Bokeh !== undefined) {\n",
       "      var el = document.getElementById(\"c17ad3ff-35da-4285-92e9-e62593c09849\");\n",
       "      el.textContent = \"BokehJS \" + Bokeh.version + \" successfully loaded.\";\n",
       "    } else if (Date.now() < window._bokeh_timeout) {\n",
       "      setTimeout(display_loaded, 100)\n",
       "    }\n",
       "  }\n",
       "\n",
       "  function run_callbacks() {\n",
       "    try {\n",
       "      window._bokeh_onload_callbacks.forEach(function(callback) { callback() });\n",
       "    }\n",
       "    finally {\n",
       "      delete window._bokeh_onload_callbacks\n",
       "    }\n",
       "    console.info(\"Bokeh: all callbacks have finished\");\n",
       "  }\n",
       "\n",
       "  function load_libs(js_urls, callback) {\n",
       "    window._bokeh_onload_callbacks.push(callback);\n",
       "    if (window._bokeh_is_loading > 0) {\n",
       "      console.log(\"Bokeh: BokehJS is being loaded, scheduling callback at\", now());\n",
       "      return null;\n",
       "    }\n",
       "    if (js_urls == null || js_urls.length === 0) {\n",
       "      run_callbacks();\n",
       "      return null;\n",
       "    }\n",
       "    console.log(\"Bokeh: BokehJS not loaded, scheduling load and callback at\", now());\n",
       "    window._bokeh_is_loading = js_urls.length;\n",
       "    for (var i = 0; i < js_urls.length; i++) {\n",
       "      var url = js_urls[i];\n",
       "      var s = document.createElement('script');\n",
       "      s.src = url;\n",
       "      s.async = false;\n",
       "      s.onreadystatechange = s.onload = function() {\n",
       "        window._bokeh_is_loading--;\n",
       "        if (window._bokeh_is_loading === 0) {\n",
       "          console.log(\"Bokeh: all BokehJS libraries loaded\");\n",
       "          run_callbacks()\n",
       "        }\n",
       "      };\n",
       "      s.onerror = function() {\n",
       "        console.warn(\"failed to load library \" + url);\n",
       "      };\n",
       "      console.log(\"Bokeh: injecting script tag for BokehJS library: \", url);\n",
       "      document.getElementsByTagName(\"head\")[0].appendChild(s);\n",
       "    }\n",
       "  };var element = document.getElementById(\"c17ad3ff-35da-4285-92e9-e62593c09849\");\n",
       "  if (element == null) {\n",
       "    console.log(\"Bokeh: ERROR: autoload.js configured with elementid 'c17ad3ff-35da-4285-92e9-e62593c09849' but no matching script tag was found. \")\n",
       "    return false;\n",
       "  }\n",
       "\n",
       "  var js_urls = [\"https://cdn.pydata.org/bokeh/release/bokeh-0.12.6.min.js\", \"https://cdn.pydata.org/bokeh/release/bokeh-widgets-0.12.6.min.js\"];\n",
       "\n",
       "  var inline_js = [\n",
       "    function(Bokeh) {\n",
       "      Bokeh.set_log_level(\"info\");\n",
       "    },\n",
       "    \n",
       "    function(Bokeh) {\n",
       "      \n",
       "    },\n",
       "    \n",
       "    function(Bokeh) {\n",
       "      \n",
       "      document.getElementById(\"c17ad3ff-35da-4285-92e9-e62593c09849\").textContent = \"BokehJS is loading...\";\n",
       "    },\n",
       "    function(Bokeh) {\n",
       "      console.log(\"Bokeh: injecting CSS: https://cdn.pydata.org/bokeh/release/bokeh-0.12.6.min.css\");\n",
       "      Bokeh.embed.inject_css(\"https://cdn.pydata.org/bokeh/release/bokeh-0.12.6.min.css\");\n",
       "      console.log(\"Bokeh: injecting CSS: https://cdn.pydata.org/bokeh/release/bokeh-widgets-0.12.6.min.css\");\n",
       "      Bokeh.embed.inject_css(\"https://cdn.pydata.org/bokeh/release/bokeh-widgets-0.12.6.min.css\");\n",
       "    }\n",
       "  ];\n",
       "\n",
       "  function run_inline_js() {\n",
       "    \n",
       "    if ((window.Bokeh !== undefined) || (force === true)) {\n",
       "      for (var i = 0; i < inline_js.length; i++) {\n",
       "        inline_js[i](window.Bokeh);\n",
       "      }if (force === true) {\n",
       "        display_loaded();\n",
       "      }} else if (Date.now() < window._bokeh_timeout) {\n",
       "      setTimeout(run_inline_js, 100);\n",
       "    } else if (!window._bokeh_failed_load) {\n",
       "      console.log(\"Bokeh: BokehJS failed to load within specified timeout.\");\n",
       "      window._bokeh_failed_load = true;\n",
       "    } else if (force !== true) {\n",
       "      var cell = $(document.getElementById(\"c17ad3ff-35da-4285-92e9-e62593c09849\")).parents('.cell').data().cell;\n",
       "      cell.output_area.append_execute_result(NB_LOAD_WARNING)\n",
       "    }\n",
       "\n",
       "  }\n",
       "\n",
       "  if (window._bokeh_is_loading === 0) {\n",
       "    console.log(\"Bokeh: BokehJS loaded, going straight to plotting\");\n",
       "    run_inline_js();\n",
       "  } else {\n",
       "    load_libs(js_urls, function() {\n",
       "      console.log(\"Bokeh: BokehJS plotting callback run at\", now());\n",
       "      run_inline_js();\n",
       "    });\n",
       "  }\n",
       "}(this));"
      ]
     },
     "metadata": {},
     "output_type": "display_data"
    }
   ],
   "source": [
    "output_notebook()"
   ]
  },
  {
   "cell_type": "code",
   "execution_count": 6,
   "metadata": {
    "collapsed": true
   },
   "outputs": [],
   "source": [
    "sample_data = [extract(nvidia_run()) for i in range(10)]"
   ]
  },
  {
   "cell_type": "code",
   "execution_count": 7,
   "metadata": {},
   "outputs": [],
   "source": [
    "from itertools import count\n",
    "import pandas as pd"
   ]
  },
  {
   "cell_type": "code",
   "execution_count": 8,
   "metadata": {},
   "outputs": [],
   "source": [
    "def t_gen(sample_data):\n",
    "    for msg in sample_data:\n",
    "        yield {'gpu {}'.format(i):gpu['temperature']['gpu_temp'] for gpu, i in zip(msg['gpu'], count())}"
   ]
  },
  {
   "cell_type": "code",
   "execution_count": 9,
   "metadata": {},
   "outputs": [],
   "source": [
    "df = pd.DataFrame(list(t_gen(sample_data)))"
   ]
  },
  {
   "cell_type": "code",
   "execution_count": 10,
   "metadata": {},
   "outputs": [],
   "source": [
    "df = df.stack().reset_index(level=1).rename(columns={'level_1':'gpu',0:'temp'})"
   ]
  },
  {
   "cell_type": "code",
   "execution_count": 11,
   "metadata": {},
   "outputs": [],
   "source": [
    "df = df.assign(temp=df['temp'].str.split().apply(lambda x: int(x[0])))"
   ]
  },
  {
   "cell_type": "code",
   "execution_count": 12,
   "metadata": {},
   "outputs": [],
   "source": [
    "df = pd.DataFrame(list(t_gen(sample_data)))"
   ]
  },
  {
   "cell_type": "code",
   "execution_count": 14,
   "metadata": {},
   "outputs": [],
   "source": [
    "df['gpu 0'] = df['gpu 0'].str.split().apply(lambda x: int(x[0]))\n",
    "df['gpu 1'] = df['gpu 1'].str.split().apply(lambda x: int(x[0]))\n",
    "df['gpu 2'] = df['gpu 2'].str.split().apply(lambda x: int(x[0]))\n",
    "df['gpu 3'] = df['gpu 3'].str.split().apply(lambda x: int(x[0]))"
   ]
  },
  {
   "cell_type": "code",
   "execution_count": 15,
   "metadata": {},
   "outputs": [
    {
     "data": {
      "text/html": [
       "<div>\n",
       "<table border=\"1\" class=\"dataframe\">\n",
       "  <thead>\n",
       "    <tr style=\"text-align: right;\">\n",
       "      <th></th>\n",
       "      <th>gpu 0</th>\n",
       "      <th>gpu 1</th>\n",
       "      <th>gpu 2</th>\n",
       "      <th>gpu 3</th>\n",
       "    </tr>\n",
       "  </thead>\n",
       "  <tbody>\n",
       "    <tr>\n",
       "      <th>0</th>\n",
       "      <td>32</td>\n",
       "      <td>29</td>\n",
       "      <td>34</td>\n",
       "      <td>36</td>\n",
       "    </tr>\n",
       "    <tr>\n",
       "      <th>1</th>\n",
       "      <td>32</td>\n",
       "      <td>29</td>\n",
       "      <td>34</td>\n",
       "      <td>36</td>\n",
       "    </tr>\n",
       "    <tr>\n",
       "      <th>2</th>\n",
       "      <td>32</td>\n",
       "      <td>29</td>\n",
       "      <td>34</td>\n",
       "      <td>36</td>\n",
       "    </tr>\n",
       "    <tr>\n",
       "      <th>3</th>\n",
       "      <td>32</td>\n",
       "      <td>29</td>\n",
       "      <td>34</td>\n",
       "      <td>36</td>\n",
       "    </tr>\n",
       "    <tr>\n",
       "      <th>4</th>\n",
       "      <td>32</td>\n",
       "      <td>29</td>\n",
       "      <td>34</td>\n",
       "      <td>36</td>\n",
       "    </tr>\n",
       "  </tbody>\n",
       "</table>\n",
       "</div>"
      ],
      "text/plain": [
       "   gpu 0  gpu 1  gpu 2  gpu 3\n",
       "0     32     29     34     36\n",
       "1     32     29     34     36\n",
       "2     32     29     34     36\n",
       "3     32     29     34     36\n",
       "4     32     29     34     36"
      ]
     },
     "execution_count": 15,
     "metadata": {},
     "output_type": "execute_result"
    }
   ],
   "source": [
    "df.head()"
   ]
  },
  {
   "cell_type": "code",
   "execution_count": 16,
   "metadata": {},
   "outputs": [
    {
     "data": {
      "text/plain": [
       "index    int64\n",
       "gpu 0    int64\n",
       "gpu 1    int64\n",
       "gpu 2    int64\n",
       "gpu 3    int64\n",
       "dtype: object"
      ]
     },
     "execution_count": 16,
     "metadata": {},
     "output_type": "execute_result"
    }
   ],
   "source": [
    "df.reset_index().dtypes"
   ]
  },
  {
   "cell_type": "code",
   "execution_count": 17,
   "metadata": {
    "collapsed": true
   },
   "outputs": [],
   "source": [
    "from bokeh.palettes import Paired"
   ]
  },
  {
   "cell_type": "code",
   "execution_count": 85,
   "metadata": {},
   "outputs": [],
   "source": [
    "data_dict = {'gpu {}'.format(gpu):[] for gpu in range(4)}\n",
    "data_dict['index'] = []\n",
    "data = ColumnDataSource(data=data_dict)"
   ]
  },
  {
   "cell_type": "code",
   "execution_count": 42,
   "metadata": {
    "collapsed": true
   },
   "outputs": [],
   "source": [
    "def gpu_temperature_plot(num_gpus=4, plot_width=600, plot_height=400, y_range=(0, 80)):\n",
    "#     data = ColumnDataSource(data=df.reset_index())\n",
    "    p = figure(plot_width=plot_width, plot_height=plot_height, y_range=y_range)\n",
    "    for gpu, color in zip(range(num_gpus), Paired[12]) :\n",
    "        p.line('index', \n",
    "               'gpu {}'.format(gpu), \n",
    "               line_width=4, \n",
    "               source=data, \n",
    "               color=color, \n",
    "               legend=\"GPU {}\".format(gpu))\n",
    "    return p"
   ]
  },
  {
   "cell_type": "code",
   "execution_count": 86,
   "metadata": {
    "collapsed": true
   },
   "outputs": [],
   "source": [
    "def gpu_util_plot(num_gpus=4, plot_width=600, plot_height=400, y_range=(0, 110)):\n",
    "    p = figure(plot_width=plot_width, plot_height=plot_height, y_range=y_range)\n",
    "    for gpu, color in zip(range(num_gpus), Paired[12]) :\n",
    "        p.line('index', \n",
    "               'gpu {}'.format(gpu), \n",
    "               line_width=4, \n",
    "               source=data, \n",
    "               color=color, \n",
    "               legend=\"GPU {}\".format(gpu))\n",
    "    return p"
   ]
  },
  {
   "cell_type": "code",
   "execution_count": 87,
   "metadata": {},
   "outputs": [
    {
     "data": {
      "text/html": [
       "\n",
       "\n",
       "    <div class=\"bk-root\">\n",
       "        <div class=\"bk-plotdiv\" id=\"6270c609-e0c7-4caa-9c84-2ce0be5ff3e8\"></div>\n",
       "    </div>\n",
       "<script type=\"text/javascript\">\n",
       "  \n",
       "  (function(global) {\n",
       "    function now() {\n",
       "      return new Date();\n",
       "    }\n",
       "  \n",
       "    var force = false;\n",
       "  \n",
       "    if (typeof (window._bokeh_onload_callbacks) === \"undefined\" || force === true) {\n",
       "      window._bokeh_onload_callbacks = [];\n",
       "      window._bokeh_is_loading = undefined;\n",
       "    }\n",
       "  \n",
       "  \n",
       "    \n",
       "    if (typeof (window._bokeh_timeout) === \"undefined\" || force === true) {\n",
       "      window._bokeh_timeout = Date.now() + 0;\n",
       "      window._bokeh_failed_load = false;\n",
       "    }\n",
       "  \n",
       "    var NB_LOAD_WARNING = {'data': {'text/html':\n",
       "       \"<div style='background-color: #fdd'>\\n\"+\n",
       "       \"<p>\\n\"+\n",
       "       \"BokehJS does not appear to have successfully loaded. If loading BokehJS from CDN, this \\n\"+\n",
       "       \"may be due to a slow or bad network connection. Possible fixes:\\n\"+\n",
       "       \"</p>\\n\"+\n",
       "       \"<ul>\\n\"+\n",
       "       \"<li>re-rerun `output_notebook()` to attempt to load from CDN again, or</li>\\n\"+\n",
       "       \"<li>use INLINE resources instead, as so:</li>\\n\"+\n",
       "       \"</ul>\\n\"+\n",
       "       \"<code>\\n\"+\n",
       "       \"from bokeh.resources import INLINE\\n\"+\n",
       "       \"output_notebook(resources=INLINE)\\n\"+\n",
       "       \"</code>\\n\"+\n",
       "       \"</div>\"}};\n",
       "  \n",
       "    function display_loaded() {\n",
       "      if (window.Bokeh !== undefined) {\n",
       "        var el = document.getElementById(\"6270c609-e0c7-4caa-9c84-2ce0be5ff3e8\");\n",
       "        el.textContent = \"BokehJS \" + Bokeh.version + \" successfully loaded.\";\n",
       "      } else if (Date.now() < window._bokeh_timeout) {\n",
       "        setTimeout(display_loaded, 100)\n",
       "      }\n",
       "    }if ((window.Jupyter !== undefined) && Jupyter.notebook.kernel) {\n",
       "      comm_manager = Jupyter.notebook.kernel.comm_manager\n",
       "      comm_manager.register_target(\"3d0990bc-2a20-45c0-bc81-610880b1676a\", function () {});\n",
       "    }\n",
       "  \n",
       "    function run_callbacks() {\n",
       "      try {\n",
       "        window._bokeh_onload_callbacks.forEach(function(callback) { callback() });\n",
       "      }\n",
       "      finally {\n",
       "        delete window._bokeh_onload_callbacks\n",
       "      }\n",
       "      console.info(\"Bokeh: all callbacks have finished\");\n",
       "    }\n",
       "  \n",
       "    function load_libs(js_urls, callback) {\n",
       "      window._bokeh_onload_callbacks.push(callback);\n",
       "      if (window._bokeh_is_loading > 0) {\n",
       "        console.log(\"Bokeh: BokehJS is being loaded, scheduling callback at\", now());\n",
       "        return null;\n",
       "      }\n",
       "      if (js_urls == null || js_urls.length === 0) {\n",
       "        run_callbacks();\n",
       "        return null;\n",
       "      }\n",
       "      console.log(\"Bokeh: BokehJS not loaded, scheduling load and callback at\", now());\n",
       "      window._bokeh_is_loading = js_urls.length;\n",
       "      for (var i = 0; i < js_urls.length; i++) {\n",
       "        var url = js_urls[i];\n",
       "        var s = document.createElement('script');\n",
       "        s.src = url;\n",
       "        s.async = false;\n",
       "        s.onreadystatechange = s.onload = function() {\n",
       "          window._bokeh_is_loading--;\n",
       "          if (window._bokeh_is_loading === 0) {\n",
       "            console.log(\"Bokeh: all BokehJS libraries loaded\");\n",
       "            run_callbacks()\n",
       "          }\n",
       "        };\n",
       "        s.onerror = function() {\n",
       "          console.warn(\"failed to load library \" + url);\n",
       "        };\n",
       "        console.log(\"Bokeh: injecting script tag for BokehJS library: \", url);\n",
       "        document.getElementsByTagName(\"head\")[0].appendChild(s);\n",
       "      }\n",
       "    };var element = document.getElementById(\"6270c609-e0c7-4caa-9c84-2ce0be5ff3e8\");\n",
       "    if (element == null) {\n",
       "      console.log(\"Bokeh: ERROR: autoload.js configured with elementid '6270c609-e0c7-4caa-9c84-2ce0be5ff3e8' but no matching script tag was found. \")\n",
       "      return false;\n",
       "    }\n",
       "  \n",
       "    var js_urls = [];\n",
       "  \n",
       "    var inline_js = [\n",
       "      function(Bokeh) {\n",
       "        (function() {\n",
       "          var fn = function() {\n",
       "            var docs_json = {\"b4cf5581-05ab-42d5-b653-d12dfbb04c1d\":{\"roots\":{\"references\":[{\"attributes\":{\"plot\":{\"id\":\"f20581fa-990e-4e20-9fd2-5d4911c181fd\",\"subtype\":\"Figure\",\"type\":\"Plot\"},\"ticker\":{\"id\":\"8010ea71-b2b4-479e-81ee-69eae4a3af73\",\"type\":\"BasicTicker\"}},\"id\":\"cf7e01f8-7a4c-4ff4-bede-487def6de496\",\"type\":\"Grid\"},{\"attributes\":{\"data_source\":{\"id\":\"8e536ff3-eddf-44a1-955e-aaf2727c65aa\",\"type\":\"ColumnDataSource\"},\"glyph\":{\"id\":\"6cc6f7fa-58de-4e60-986c-e0233675358b\",\"type\":\"Line\"},\"hover_glyph\":null,\"muted_glyph\":null,\"nonselection_glyph\":{\"id\":\"5d53e55f-6d3d-494e-ac76-f581f9af2937\",\"type\":\"Line\"},\"selection_glyph\":null},\"id\":\"1079aabd-f61d-4daf-b1d7-a9205afb7d40\",\"type\":\"GlyphRenderer\"},{\"attributes\":{\"below\":[{\"id\":\"5dc1bb46-38e7-4627-abc6-f61ad2812c2c\",\"type\":\"LinearAxis\"}],\"left\":[{\"id\":\"d2174b10-a4a8-4dbb-92f9-79050983d94e\",\"type\":\"LinearAxis\"}],\"plot_height\":400,\"renderers\":[{\"id\":\"5dc1bb46-38e7-4627-abc6-f61ad2812c2c\",\"type\":\"LinearAxis\"},{\"id\":\"cf7e01f8-7a4c-4ff4-bede-487def6de496\",\"type\":\"Grid\"},{\"id\":\"d2174b10-a4a8-4dbb-92f9-79050983d94e\",\"type\":\"LinearAxis\"},{\"id\":\"5ac4bf7e-a27f-4b47-b725-b21e5d4d50f3\",\"type\":\"Grid\"},{\"id\":\"97bc8e7d-97f6-452e-9023-e76fb873b40f\",\"type\":\"BoxAnnotation\"},{\"id\":\"9c5e0a2f-9d4b-4ac4-a058-afce78c66462\",\"type\":\"Legend\"},{\"id\":\"1079aabd-f61d-4daf-b1d7-a9205afb7d40\",\"type\":\"GlyphRenderer\"},{\"id\":\"3de5c131-9788-4ee9-a37c-b2264824c95f\",\"type\":\"GlyphRenderer\"},{\"id\":\"43bf2daf-a61a-494f-ad36-0c8a5f5ac041\",\"type\":\"GlyphRenderer\"},{\"id\":\"1c70b077-866d-43f5-bc08-de9d014f9a10\",\"type\":\"GlyphRenderer\"}],\"title\":{\"id\":\"0665c42c-a3c0-44b7-9f7c-dc6ea63128e4\",\"type\":\"Title\"},\"tool_events\":{\"id\":\"9b6c2944-e8e1-4ff3-a87a-d7888bb7117d\",\"type\":\"ToolEvents\"},\"toolbar\":{\"id\":\"5bd317c6-e987-4492-a666-c85f01795e28\",\"type\":\"Toolbar\"},\"x_range\":{\"id\":\"1641684f-4a71-4828-b249-cc538a5eef86\",\"type\":\"DataRange1d\"},\"x_scale\":{\"id\":\"a6c24023-0f2b-4fec-9fe2-0895c089a4ae\",\"type\":\"LinearScale\"},\"y_range\":{\"id\":\"2582ccf8-2623-488d-9336-87204158a2d8\",\"type\":\"Range1d\"},\"y_scale\":{\"id\":\"faa2d4cf-a2af-462d-bebe-ecbc1392b0a8\",\"type\":\"LinearScale\"}},\"id\":\"f20581fa-990e-4e20-9fd2-5d4911c181fd\",\"subtype\":\"Figure\",\"type\":\"Plot\"},{\"attributes\":{\"dimension\":1,\"plot\":{\"id\":\"f20581fa-990e-4e20-9fd2-5d4911c181fd\",\"subtype\":\"Figure\",\"type\":\"Plot\"},\"ticker\":{\"id\":\"704f06d2-1441-4cd9-967c-e038a41784e1\",\"type\":\"BasicTicker\"}},\"id\":\"5ac4bf7e-a27f-4b47-b725-b21e5d4d50f3\",\"type\":\"Grid\"},{\"attributes\":{\"line_color\":{\"value\":\"#1f78b4\"},\"line_width\":{\"value\":4},\"x\":{\"field\":\"index\"},\"y\":{\"field\":\"gpu 1\"}},\"id\":\"fa28760c-07d6-4c15-b1f6-2f151dbcc0e3\",\"type\":\"Line\"},{\"attributes\":{},\"id\":\"704f06d2-1441-4cd9-967c-e038a41784e1\",\"type\":\"BasicTicker\"},{\"attributes\":{\"line_alpha\":{\"value\":0.1},\"line_color\":{\"value\":\"#1f77b4\"},\"line_width\":{\"value\":4},\"x\":{\"field\":\"index\"},\"y\":{\"field\":\"gpu 3\"}},\"id\":\"21e79279-4c03-4fb7-a60b-c3ae7920e31b\",\"type\":\"Line\"},{\"attributes\":{\"line_color\":{\"value\":\"#33a02c\"},\"line_width\":{\"value\":4},\"x\":{\"field\":\"index\"},\"y\":{\"field\":\"gpu 3\"}},\"id\":\"dc614231-1029-4bd0-859d-c66eb93b7b25\",\"type\":\"Line\"},{\"attributes\":{\"label\":{\"value\":\"GPU 0\"},\"renderers\":[{\"id\":\"1079aabd-f61d-4daf-b1d7-a9205afb7d40\",\"type\":\"GlyphRenderer\"}]},\"id\":\"b14ce3fe-6e72-4598-b418-7c3b692e5e26\",\"type\":\"LegendItem\"},{\"attributes\":{},\"id\":\"f671d2c0-c22e-435f-b668-e938882f14a6\",\"type\":\"BasicTickFormatter\"},{\"attributes\":{\"line_alpha\":{\"value\":0.1},\"line_color\":{\"value\":\"#1f77b4\"},\"line_width\":{\"value\":4},\"x\":{\"field\":\"index\"},\"y\":{\"field\":\"gpu 2\"}},\"id\":\"f6fac83d-2cdb-4627-aa6f-9f2869dd3434\",\"type\":\"Line\"},{\"attributes\":{},\"id\":\"faa2d4cf-a2af-462d-bebe-ecbc1392b0a8\",\"type\":\"LinearScale\"},{\"attributes\":{\"label\":{\"value\":\"GPU 1\"},\"renderers\":[{\"id\":\"3de5c131-9788-4ee9-a37c-b2264824c95f\",\"type\":\"GlyphRenderer\"}]},\"id\":\"807f3cea-5034-491d-ab16-9fd371fac30b\",\"type\":\"LegendItem\"},{\"attributes\":{\"bottom_units\":\"screen\",\"fill_alpha\":{\"value\":0.5},\"fill_color\":{\"value\":\"lightgrey\"},\"left_units\":\"screen\",\"level\":\"overlay\",\"line_alpha\":{\"value\":1.0},\"line_color\":{\"value\":\"black\"},\"line_dash\":[4,4],\"line_width\":{\"value\":2},\"plot\":null,\"render_mode\":\"css\",\"right_units\":\"screen\",\"top_units\":\"screen\"},\"id\":\"97bc8e7d-97f6-452e-9023-e76fb873b40f\",\"type\":\"BoxAnnotation\"},{\"attributes\":{\"plot\":{\"id\":\"f20581fa-990e-4e20-9fd2-5d4911c181fd\",\"subtype\":\"Figure\",\"type\":\"Plot\"}},\"id\":\"c1f8a324-5598-4570-9848-b58cd6ea3423\",\"type\":\"ResetTool\"},{\"attributes\":{\"plot\":null,\"text\":\"\"},\"id\":\"0665c42c-a3c0-44b7-9f7c-dc6ea63128e4\",\"type\":\"Title\"},{\"attributes\":{\"overlay\":{\"id\":\"97bc8e7d-97f6-452e-9023-e76fb873b40f\",\"type\":\"BoxAnnotation\"},\"plot\":{\"id\":\"f20581fa-990e-4e20-9fd2-5d4911c181fd\",\"subtype\":\"Figure\",\"type\":\"Plot\"}},\"id\":\"6892d6fa-4ae3-4e95-8efa-ce84cc00b70c\",\"type\":\"BoxZoomTool\"},{\"attributes\":{},\"id\":\"bc16ff9c-f052-4e71-b51d-59508cfb3520\",\"type\":\"BasicTickFormatter\"},{\"attributes\":{},\"id\":\"a6c24023-0f2b-4fec-9fe2-0895c089a4ae\",\"type\":\"LinearScale\"},{\"attributes\":{\"line_alpha\":{\"value\":0.1},\"line_color\":{\"value\":\"#1f77b4\"},\"line_width\":{\"value\":4},\"x\":{\"field\":\"index\"},\"y\":{\"field\":\"gpu 1\"}},\"id\":\"82554e44-22ab-4c90-bb26-1558773e0462\",\"type\":\"Line\"},{\"attributes\":{\"data_source\":{\"id\":\"8e536ff3-eddf-44a1-955e-aaf2727c65aa\",\"type\":\"ColumnDataSource\"},\"glyph\":{\"id\":\"dc614231-1029-4bd0-859d-c66eb93b7b25\",\"type\":\"Line\"},\"hover_glyph\":null,\"muted_glyph\":null,\"nonselection_glyph\":{\"id\":\"21e79279-4c03-4fb7-a60b-c3ae7920e31b\",\"type\":\"Line\"},\"selection_glyph\":null},\"id\":\"1c70b077-866d-43f5-bc08-de9d014f9a10\",\"type\":\"GlyphRenderer\"},{\"attributes\":{\"plot\":{\"id\":\"f20581fa-990e-4e20-9fd2-5d4911c181fd\",\"subtype\":\"Figure\",\"type\":\"Plot\"}},\"id\":\"e3653d29-1e0e-467c-82ef-40199d33b1b6\",\"type\":\"HelpTool\"},{\"attributes\":{\"line_alpha\":{\"value\":0.1},\"line_color\":{\"value\":\"#1f77b4\"},\"line_width\":{\"value\":4},\"x\":{\"field\":\"index\"},\"y\":{\"field\":\"gpu 0\"}},\"id\":\"5d53e55f-6d3d-494e-ac76-f581f9af2937\",\"type\":\"Line\"},{\"attributes\":{\"label\":{\"value\":\"GPU 2\"},\"renderers\":[{\"id\":\"43bf2daf-a61a-494f-ad36-0c8a5f5ac041\",\"type\":\"GlyphRenderer\"}]},\"id\":\"b783bc9b-ee7c-4be9-a1f4-e6b8fef661c1\",\"type\":\"LegendItem\"},{\"attributes\":{\"callback\":null},\"id\":\"1641684f-4a71-4828-b249-cc538a5eef86\",\"type\":\"DataRange1d\"},{\"attributes\":{\"items\":[{\"id\":\"b14ce3fe-6e72-4598-b418-7c3b692e5e26\",\"type\":\"LegendItem\"},{\"id\":\"807f3cea-5034-491d-ab16-9fd371fac30b\",\"type\":\"LegendItem\"},{\"id\":\"b783bc9b-ee7c-4be9-a1f4-e6b8fef661c1\",\"type\":\"LegendItem\"},{\"id\":\"6dc0c0e8-376d-4f24-8164-d06f4fe9905b\",\"type\":\"LegendItem\"}],\"plot\":{\"id\":\"f20581fa-990e-4e20-9fd2-5d4911c181fd\",\"subtype\":\"Figure\",\"type\":\"Plot\"}},\"id\":\"9c5e0a2f-9d4b-4ac4-a058-afce78c66462\",\"type\":\"Legend\"},{\"attributes\":{\"callback\":null,\"end\":110},\"id\":\"2582ccf8-2623-488d-9336-87204158a2d8\",\"type\":\"Range1d\"},{\"attributes\":{\"formatter\":{\"id\":\"bc16ff9c-f052-4e71-b51d-59508cfb3520\",\"type\":\"BasicTickFormatter\"},\"plot\":{\"id\":\"f20581fa-990e-4e20-9fd2-5d4911c181fd\",\"subtype\":\"Figure\",\"type\":\"Plot\"},\"ticker\":{\"id\":\"8010ea71-b2b4-479e-81ee-69eae4a3af73\",\"type\":\"BasicTicker\"}},\"id\":\"5dc1bb46-38e7-4627-abc6-f61ad2812c2c\",\"type\":\"LinearAxis\"},{\"attributes\":{\"line_color\":{\"value\":\"#b2df8a\"},\"line_width\":{\"value\":4},\"x\":{\"field\":\"index\"},\"y\":{\"field\":\"gpu 2\"}},\"id\":\"b9f85e1c-9561-45b7-900c-4b759ace8595\",\"type\":\"Line\"},{\"attributes\":{\"plot\":{\"id\":\"f20581fa-990e-4e20-9fd2-5d4911c181fd\",\"subtype\":\"Figure\",\"type\":\"Plot\"}},\"id\":\"73597e5a-ec1d-465b-88d8-0b222752e4a8\",\"type\":\"SaveTool\"},{\"attributes\":{},\"id\":\"8010ea71-b2b4-479e-81ee-69eae4a3af73\",\"type\":\"BasicTicker\"},{\"attributes\":{\"formatter\":{\"id\":\"f671d2c0-c22e-435f-b668-e938882f14a6\",\"type\":\"BasicTickFormatter\"},\"plot\":{\"id\":\"f20581fa-990e-4e20-9fd2-5d4911c181fd\",\"subtype\":\"Figure\",\"type\":\"Plot\"},\"ticker\":{\"id\":\"704f06d2-1441-4cd9-967c-e038a41784e1\",\"type\":\"BasicTicker\"}},\"id\":\"d2174b10-a4a8-4dbb-92f9-79050983d94e\",\"type\":\"LinearAxis\"},{\"attributes\":{\"label\":{\"value\":\"GPU 3\"},\"renderers\":[{\"id\":\"1c70b077-866d-43f5-bc08-de9d014f9a10\",\"type\":\"GlyphRenderer\"}]},\"id\":\"6dc0c0e8-376d-4f24-8164-d06f4fe9905b\",\"type\":\"LegendItem\"},{\"attributes\":{\"data_source\":{\"id\":\"8e536ff3-eddf-44a1-955e-aaf2727c65aa\",\"type\":\"ColumnDataSource\"},\"glyph\":{\"id\":\"fa28760c-07d6-4c15-b1f6-2f151dbcc0e3\",\"type\":\"Line\"},\"hover_glyph\":null,\"muted_glyph\":null,\"nonselection_glyph\":{\"id\":\"82554e44-22ab-4c90-bb26-1558773e0462\",\"type\":\"Line\"},\"selection_glyph\":null},\"id\":\"3de5c131-9788-4ee9-a37c-b2264824c95f\",\"type\":\"GlyphRenderer\"},{\"attributes\":{},\"id\":\"9b6c2944-e8e1-4ff3-a87a-d7888bb7117d\",\"type\":\"ToolEvents\"},{\"attributes\":{\"plot\":{\"id\":\"f20581fa-990e-4e20-9fd2-5d4911c181fd\",\"subtype\":\"Figure\",\"type\":\"Plot\"}},\"id\":\"00a3e74f-5c1e-4a8e-87c5-d2e3be01c9f2\",\"type\":\"WheelZoomTool\"},{\"attributes\":{\"data_source\":{\"id\":\"8e536ff3-eddf-44a1-955e-aaf2727c65aa\",\"type\":\"ColumnDataSource\"},\"glyph\":{\"id\":\"b9f85e1c-9561-45b7-900c-4b759ace8595\",\"type\":\"Line\"},\"hover_glyph\":null,\"muted_glyph\":null,\"nonselection_glyph\":{\"id\":\"f6fac83d-2cdb-4627-aa6f-9f2869dd3434\",\"type\":\"Line\"},\"selection_glyph\":null},\"id\":\"43bf2daf-a61a-494f-ad36-0c8a5f5ac041\",\"type\":\"GlyphRenderer\"},{\"attributes\":{\"plot\":{\"id\":\"f20581fa-990e-4e20-9fd2-5d4911c181fd\",\"subtype\":\"Figure\",\"type\":\"Plot\"}},\"id\":\"22670045-b056-4e8a-b6a2-9ab107d364c0\",\"type\":\"PanTool\"},{\"attributes\":{\"callback\":null,\"column_names\":[\"gpu 2\",\"index\",\"gpu 3\",\"gpu 1\",\"gpu 0\"],\"data\":{\"gpu 0\":[],\"gpu 1\":[],\"gpu 2\":[],\"gpu 3\":[],\"index\":[]}},\"id\":\"8e536ff3-eddf-44a1-955e-aaf2727c65aa\",\"type\":\"ColumnDataSource\"},{\"attributes\":{\"line_color\":{\"value\":\"#a6cee3\"},\"line_width\":{\"value\":4},\"x\":{\"field\":\"index\"},\"y\":{\"field\":\"gpu 0\"}},\"id\":\"6cc6f7fa-58de-4e60-986c-e0233675358b\",\"type\":\"Line\"},{\"attributes\":{\"active_drag\":\"auto\",\"active_inspect\":\"auto\",\"active_scroll\":\"auto\",\"active_tap\":\"auto\",\"tools\":[{\"id\":\"22670045-b056-4e8a-b6a2-9ab107d364c0\",\"type\":\"PanTool\"},{\"id\":\"00a3e74f-5c1e-4a8e-87c5-d2e3be01c9f2\",\"type\":\"WheelZoomTool\"},{\"id\":\"6892d6fa-4ae3-4e95-8efa-ce84cc00b70c\",\"type\":\"BoxZoomTool\"},{\"id\":\"73597e5a-ec1d-465b-88d8-0b222752e4a8\",\"type\":\"SaveTool\"},{\"id\":\"c1f8a324-5598-4570-9848-b58cd6ea3423\",\"type\":\"ResetTool\"},{\"id\":\"e3653d29-1e0e-467c-82ef-40199d33b1b6\",\"type\":\"HelpTool\"}]},\"id\":\"5bd317c6-e987-4492-a666-c85f01795e28\",\"type\":\"Toolbar\"}],\"root_ids\":[\"f20581fa-990e-4e20-9fd2-5d4911c181fd\"]},\"title\":\"Bokeh Application\",\"version\":\"0.12.6\"}};\n",
       "            var render_items = [{\"docid\":\"b4cf5581-05ab-42d5-b653-d12dfbb04c1d\",\"elementid\":\"6270c609-e0c7-4caa-9c84-2ce0be5ff3e8\",\"modelid\":\"f20581fa-990e-4e20-9fd2-5d4911c181fd\",\"notebook_comms_target\":\"3d0990bc-2a20-45c0-bc81-610880b1676a\"}];\n",
       "            \n",
       "            Bokeh.embed.embed_items(docs_json, render_items);\n",
       "          };\n",
       "          if (document.readyState != \"loading\") fn();\n",
       "          else document.addEventListener(\"DOMContentLoaded\", fn);\n",
       "        })();\n",
       "      },\n",
       "      function(Bokeh) {\n",
       "      }\n",
       "    ];\n",
       "  \n",
       "    function run_inline_js() {\n",
       "      \n",
       "      if ((window.Bokeh !== undefined) || (force === true)) {\n",
       "        for (var i = 0; i < inline_js.length; i++) {\n",
       "          inline_js[i](window.Bokeh);\n",
       "        }if (force === true) {\n",
       "          display_loaded();\n",
       "        }} else if (Date.now() < window._bokeh_timeout) {\n",
       "        setTimeout(run_inline_js, 100);\n",
       "      } else if (!window._bokeh_failed_load) {\n",
       "        console.log(\"Bokeh: BokehJS failed to load within specified timeout.\");\n",
       "        window._bokeh_failed_load = true;\n",
       "      } else if (force !== true) {\n",
       "        var cell = $(document.getElementById(\"6270c609-e0c7-4caa-9c84-2ce0be5ff3e8\")).parents('.cell').data().cell;\n",
       "        cell.output_area.append_execute_result(NB_LOAD_WARNING)\n",
       "      }\n",
       "  \n",
       "    }\n",
       "  \n",
       "    if (window._bokeh_is_loading === 0) {\n",
       "      console.log(\"Bokeh: BokehJS loaded, going straight to plotting\");\n",
       "      run_inline_js();\n",
       "    } else {\n",
       "      load_libs(js_urls, function() {\n",
       "        console.log(\"Bokeh: BokehJS plotting callback run at\", now());\n",
       "        run_inline_js();\n",
       "      });\n",
       "    }\n",
       "  }(this));\n",
       "</script>"
      ]
     },
     "metadata": {},
     "output_type": "display_data"
    }
   ],
   "source": [
    "handle = show(gpu_util_plot(), notebook_handle=True)"
   ]
  },
  {
   "cell_type": "code",
   "execution_count": 88,
   "metadata": {},
   "outputs": [],
   "source": [
    "a=extract(nvidia_run())"
   ]
  },
  {
   "cell_type": "code",
   "execution_count": 89,
   "metadata": {
    "collapsed": true
   },
   "outputs": [],
   "source": [
    "def convert_temp_string(t_string):\n",
    "    return int(t_string.split()[0])"
   ]
  },
  {
   "cell_type": "code",
   "execution_count": 90,
   "metadata": {},
   "outputs": [],
   "source": [
    "def extract_temperature(msg):\n",
    "    return {'gpu {}'.format(i):[convert_temp_string(gpu['temperature']['gpu_temp'])] for gpu, i in zip(msg['gpu'], count())}"
   ]
  },
  {
   "cell_type": "code",
   "execution_count": 91,
   "metadata": {
    "collapsed": true
   },
   "outputs": [],
   "source": [
    "def extract_utilization(msg):\n",
    "    return {'gpu {}'.format(i):[convert_temp_string(gpu['utilization']['gpu_util'])] for gpu, i in zip(msg['gpu'], count())}"
   ]
  },
  {
   "cell_type": "code",
   "execution_count": 92,
   "metadata": {
    "collapsed": true
   },
   "outputs": [],
   "source": [
    "from toolz import pipe"
   ]
  },
  {
   "cell_type": "code",
   "execution_count": 93,
   "metadata": {},
   "outputs": [
    {
     "data": {
      "text/plain": [
       "{'gpu': [{'temperature': OrderedDict([('gpu_temp', '50 C'),\n",
       "                ('gpu_temp_max_threshold', '91 C'),\n",
       "                ('gpu_temp_slow_threshold', '88 C')]),\n",
       "   'utilization': OrderedDict([('gpu_util', '77 %'),\n",
       "                ('memory_util', '50 %'),\n",
       "                ('encoder_util', '0 %'),\n",
       "                ('decoder_util', '0 %')])},\n",
       "  {'temperature': OrderedDict([('gpu_temp', '35 C'),\n",
       "                ('gpu_temp_max_threshold', '91 C'),\n",
       "                ('gpu_temp_slow_threshold', '88 C')]),\n",
       "   'utilization': OrderedDict([('gpu_util', '0 %'),\n",
       "                ('memory_util', '0 %'),\n",
       "                ('encoder_util', '0 %'),\n",
       "                ('decoder_util', '0 %')])},\n",
       "  {'temperature': OrderedDict([('gpu_temp', '41 C'),\n",
       "                ('gpu_temp_max_threshold', '91 C'),\n",
       "                ('gpu_temp_slow_threshold', '88 C')]),\n",
       "   'utilization': OrderedDict([('gpu_util', '0 %'),\n",
       "                ('memory_util', '0 %'),\n",
       "                ('encoder_util', '0 %'),\n",
       "                ('decoder_util', '0 %')])},\n",
       "  {'temperature': OrderedDict([('gpu_temp', '50 C'),\n",
       "                ('gpu_temp_max_threshold', '91 C'),\n",
       "                ('gpu_temp_slow_threshold', '88 C')]),\n",
       "   'utilization': OrderedDict([('gpu_util', '0 %'),\n",
       "                ('memory_util', '0 %'),\n",
       "                ('encoder_util', '0 %'),\n",
       "                ('decoder_util', '0 %')])}]}"
      ]
     },
     "execution_count": 93,
     "metadata": {},
     "output_type": "execute_result"
    }
   ],
   "source": [
    "pipe(nvidia_run(), extract)"
   ]
  },
  {
   "cell_type": "code",
   "execution_count": 56,
   "metadata": {},
   "outputs": [],
   "source": [
    "for i in range(100):\n",
    "    new_data = pipe(nvidia_run(), extract, extract_temperature)\n",
    "    new_data['index']=[i]\n",
    "    data.stream(new_data, rollover=20, setter=None)\n",
    "    push_notebook(handle=handle)"
   ]
  },
  {
   "cell_type": "code",
   "execution_count": 94,
   "metadata": {},
   "outputs": [],
   "source": [
    "for i in range(100):\n",
    "    new_data = pipe(nvidia_run(), extract, extract_utilization)\n",
    "    new_data['index']=[i]\n",
    "    data.stream(new_data, rollover=None, setter=None)\n",
    "    push_notebook(handle=handle)"
   ]
  },
  {
   "cell_type": "code",
   "execution_count": null,
   "metadata": {
    "collapsed": true
   },
   "outputs": [],
   "source": []
  }
 ],
 "metadata": {
  "kernelspec": {
   "display_name": "Python 3",
   "language": "python",
   "name": "python3"
  },
  "language_info": {
   "codemirror_mode": {
    "name": "ipython",
    "version": 3
   },
   "file_extension": ".py",
   "mimetype": "text/x-python",
   "name": "python",
   "nbconvert_exporter": "python",
   "pygments_lexer": "ipython3",
   "version": "3.6.4"
  }
 },
 "nbformat": 4,
 "nbformat_minor": 2
}
